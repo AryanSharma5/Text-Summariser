{
 "cells": [
  {
   "cell_type": "markdown",
   "execution_count": null,
   "metadata": {},
   "source": [
    "### IMPORTING LIBRARIES:"
   ]
  },
  {
   "cell_type": "code",
   "execution_count": 1,
   "metadata": {
    "_cell_guid": "b1076dfc-b9ad-4769-8c92-a6c4dae69d19",
    "_uuid": "8f2839f25d086af736a60e9eeb907d3b93b6e0e5"
   },
   "outputs": [
    {
     "name": "stdout",
     "output_type": "stream",
     "text": [
      "/kaggle/input/solera-task/TASK.xlsx\n",
      "/kaggle/input/glove6b100dtxt/glove.6B.100d.txt\n"
     ]
    }
   ],
   "source": [
    "import numpy as np # linear algebra\n",
    "import pandas as pd # data processing, CSV file I/O (e.g. pd.read_csv)\n",
    "\n",
    "import os\n",
    "for dirname, _, filenames in os.walk('/kaggle/input'):\n",
    "    for filename in filenames:\n",
    "        print(os.path.join(dirname, filename))"
   ]
  },
  {
   "cell_type": "markdown",
   "execution_count": null,
   "metadata": {},
   "source": [
    "### GLOVE WORD EMBEDDINGS."
   ]
  },
  {
   "cell_type": "code",
   "execution_count": 2,
   "metadata": {
    "_kg_hide-output": false
   },
   "outputs": [],
   "source": [
    "word_embeddings = {}\n",
    "with open('/kaggle/input/glove6b100dtxt/glove.6B.100d.txt', encoding = 'utf-8') as file:\n",
    "    for line in file:\n",
    "        coefs = np.asarray(line.split()[1:], dtype = 'float32')\n",
    "        word_embeddings[line.split()[0]] = coefs"
   ]
  },
  {
   "cell_type": "code",
   "execution_count": 3,
   "metadata": {},
   "outputs": [
    {
     "data": {
      "text/plain": [
       "400000"
      ]
     },
     "execution_count": 3,
     "metadata": {},
     "output_type": "execute_result"
    }
   ],
   "source": [
    "len(word_embeddings)"
   ]
  },
  {
   "cell_type": "markdown",
   "execution_count": null,
   "metadata": {},
   "source": [
    "### Given test data."
   ]
  },
  {
   "cell_type": "code",
   "execution_count": 4,
   "metadata": {
    "_cell_guid": "79c7e3d0-c299-4dcb-8224-4455121ee9b0",
    "_uuid": "d629ff2d2480ee46fbb7e2d37f6b5fab8052498a"
   },
   "outputs": [
    {
     "data": {
      "text/html": [
       "<div>\n",
       "<style scoped>\n",
       "    .dataframe tbody tr th:only-of-type {\n",
       "        vertical-align: middle;\n",
       "    }\n",
       "\n",
       "    .dataframe tbody tr th {\n",
       "        vertical-align: top;\n",
       "    }\n",
       "\n",
       "    .dataframe thead th {\n",
       "        text-align: right;\n",
       "    }\n",
       "</style>\n",
       "<table border=\"1\" class=\"dataframe\">\n",
       "  <thead>\n",
       "    <tr style=\"text-align: right;\">\n",
       "      <th></th>\n",
       "      <th>TEST DATASET</th>\n",
       "      <th>Unnamed: 1</th>\n",
       "    </tr>\n",
       "  </thead>\n",
       "  <tbody>\n",
       "    <tr>\n",
       "      <th>0</th>\n",
       "      <td>NaN</td>\n",
       "      <td>Introduction</td>\n",
       "    </tr>\n",
       "    <tr>\n",
       "      <th>1</th>\n",
       "      <td>NaN</td>\n",
       "      <td>Acnesol Gel is an antibiotic that fights bacte...</td>\n",
       "    </tr>\n",
       "    <tr>\n",
       "      <th>2</th>\n",
       "      <td>NaN</td>\n",
       "      <td>Ambrodil Syrup is used for treating various re...</td>\n",
       "    </tr>\n",
       "    <tr>\n",
       "      <th>3</th>\n",
       "      <td>NaN</td>\n",
       "      <td>Augmentin 625 Duo Tablet is a penicillin-type ...</td>\n",
       "    </tr>\n",
       "    <tr>\n",
       "      <th>4</th>\n",
       "      <td>NaN</td>\n",
       "      <td>Azithral 500 Tablet is an antibiotic used to t...</td>\n",
       "    </tr>\n",
       "  </tbody>\n",
       "</table>\n",
       "</div>"
      ],
      "text/plain": [
       "   TEST DATASET                                         Unnamed: 1\n",
       "0           NaN                                       Introduction\n",
       "1           NaN  Acnesol Gel is an antibiotic that fights bacte...\n",
       "2           NaN  Ambrodil Syrup is used for treating various re...\n",
       "3           NaN  Augmentin 625 Duo Tablet is a penicillin-type ...\n",
       "4           NaN  Azithral 500 Tablet is an antibiotic used to t..."
      ]
     },
     "execution_count": 4,
     "metadata": {},
     "output_type": "execute_result"
    }
   ],
   "source": [
    "data = pd.read_excel('/kaggle/input/solera-task/TASK.xlsx')\n",
    "data.head()"
   ]
  },
  {
   "cell_type": "code",
   "execution_count": 5,
   "metadata": {},
   "outputs": [
    {
     "data": {
      "text/html": [
       "<div>\n",
       "<style scoped>\n",
       "    .dataframe tbody tr th:only-of-type {\n",
       "        vertical-align: middle;\n",
       "    }\n",
       "\n",
       "    .dataframe tbody tr th {\n",
       "        vertical-align: top;\n",
       "    }\n",
       "\n",
       "    .dataframe thead th {\n",
       "        text-align: right;\n",
       "    }\n",
       "</style>\n",
       "<table border=\"1\" class=\"dataframe\">\n",
       "  <thead>\n",
       "    <tr style=\"text-align: right;\">\n",
       "      <th></th>\n",
       "      <th>TEXT</th>\n",
       "    </tr>\n",
       "  </thead>\n",
       "  <tbody>\n",
       "    <tr>\n",
       "      <th>0</th>\n",
       "      <td>Acnesol Gel is an antibiotic that fights bacte...</td>\n",
       "    </tr>\n",
       "    <tr>\n",
       "      <th>1</th>\n",
       "      <td>Ambrodil Syrup is used for treating various re...</td>\n",
       "    </tr>\n",
       "    <tr>\n",
       "      <th>2</th>\n",
       "      <td>Augmentin 625 Duo Tablet is a penicillin-type ...</td>\n",
       "    </tr>\n",
       "    <tr>\n",
       "      <th>3</th>\n",
       "      <td>Azithral 500 Tablet is an antibiotic used to t...</td>\n",
       "    </tr>\n",
       "    <tr>\n",
       "      <th>4</th>\n",
       "      <td>Alkasol Oral Solution is a medicine used in th...</td>\n",
       "    </tr>\n",
       "  </tbody>\n",
       "</table>\n",
       "</div>"
      ],
      "text/plain": [
       "                                                TEXT\n",
       "0  Acnesol Gel is an antibiotic that fights bacte...\n",
       "1  Ambrodil Syrup is used for treating various re...\n",
       "2  Augmentin 625 Duo Tablet is a penicillin-type ...\n",
       "3  Azithral 500 Tablet is an antibiotic used to t...\n",
       "4  Alkasol Oral Solution is a medicine used in th..."
      ]
     },
     "execution_count": 5,
     "metadata": {},
     "output_type": "execute_result"
    }
   ],
   "source": [
    "data = pd.DataFrame(data.iloc[1:, 1]).reset_index(drop = True)\n",
    "data.columns = ['TEXT']\n",
    "data.head()"
   ]
  },
  {
   "cell_type": "code",
   "execution_count": 6,
   "metadata": {},
   "outputs": [
    {
     "data": {
      "text/plain": [
       "(1000, 1)"
      ]
     },
     "execution_count": 6,
     "metadata": {},
     "output_type": "execute_result"
    }
   ],
   "source": [
    "# There are total 1000 text docs.\n",
    "\n",
    "data.shape"
   ]
  },
  {
   "cell_type": "code",
   "execution_count": 7,
   "metadata": {},
   "outputs": [
    {
     "data": {
      "text/plain": [
       "'Acnesol Gel is an antibiotic that fights bacteria. It is used to treat acne, which appears as spots or pimples on your face, chest or back. This medicine works by attacking the bacteria that cause these pimples.Acnesol Gel is only meant for external use and should be used as advised by your doctor. You should normally wash and dry the affected area before applying a thin layer of the medicine. It should not be applied to broken or damaged skin. Avoid any contact with your eyes, nose, or mouth. Rinse it off with water if you accidentally get it in these areas. It may take several weeks for your symptoms to improve, but you should keep using this medicine regularly. Do not stop using it as soon as your acne starts to get better. Ask your doctor when you should stop treatment.Common side effects like minor itching, burning, or redness of the skin and oily skin may be seen in some people. These are usually temporary and resolve on their own. Consult your doctor if they bother you or do not go away.It is a safe medicine, but you should inform your doctor if you have any problems with your bowels (intestines). Also, inform the doctor if you have ever had bloody diarrhea caused by taking antibiotics or if you are using any other medicines to treat skin conditions. Consult your doctor about using this medicine if you are pregnant or breastfeeding.'"
      ]
     },
     "execution_count": 7,
     "metadata": {},
     "output_type": "execute_result"
    }
   ],
   "source": [
    "data.loc[0, 'TEXT']"
   ]
  },
  {
   "cell_type": "markdown",
   "execution_count": null,
   "metadata": {},
   "source": [
    "# TEXT SUMMARIZATION\n",
    "\n",
    "<a> Text Summarization problem can be dealt in two ways:</a><br>\n",
    "<a> 1. Extractive text summarization.</a><br>\n",
    "<a> 2. Abstractive text summarization.</a>\n",
    "\n",
    "#### <i>My Approach for solving the problem follows extractive text summarization, It extracts the most important sentences from the given text and stack them to create a summary. Following are the steps that I took to generate meaningful summary from the given text.</i>\n",
    "\n",
    "1. The first step is to split the given text into individual sentences.\n",
    "2. After sentence tokenizing, I performed text preprocessing like removing unwanted characters, stopwords and finally        lower casing the words and concatenating the words back to make a sentence.\n",
    "3. The next step after text preprocessing is to generate word embeddings by making use of Glove(Global vectors for word      representation).\n",
    "4. In this step, I generated a similarity matrix using cosine similarity.\n",
    "5. The similarity matrix is then converted into a graph, where each vertex node represents a sentence and edge rpresents a    similarity score.\n",
    "6. Finally, summary of given number of sentence is created."
   ]
  },
  {
   "cell_type": "code",
   "execution_count": 8,
   "metadata": {},
   "outputs": [
    {
     "data": {
      "text/plain": [
       "'This helps to reduce the workload of the heart.Angizem CD 120 Capsule ER may be taken with or without food, but it is better to take it regularly at a fixed time each day as advised by your doctor.Your doctor may want to monitor your blood pressure while using it and you may need frequent blood tests.Drinking alcohol should be avoided while taking this medicine as it may worsen the side effects.Before taking this medicine, let your doctor know if you have any liver or kidney problems.Keep using this medicine even if you feel well.Also, inform your doctor if you have very low blood pressure (hypotension), heart failure, or if you recently had a heart attack and have fluid in your lungs.'"
      ]
     },
     "execution_count": 8,
     "metadata": {},
     "output_type": "execute_result"
    }
   ],
   "source": [
    "from nltk.tokenize import sent_tokenize\n",
    "import re\n",
    "from nltk.corpus import stopwords\n",
    "from sklearn.metrics.pairwise import cosine_similarity\n",
    "import networkx as nx\n",
    "\n",
    "\n",
    "class TextSummariser():\n",
    "    \n",
    "    doc = '''\n",
    "              - This class summarises the given text using glove word embeddings\n",
    "                and page rank algorithm.\n",
    "              - Following steps are required for usage:-\n",
    "                   1. user must instantiate this class by passing the text to\n",
    "                      summarise as an argument.\n",
    "                   2. using the object of the class user can call the extract_summary\n",
    "                      method by passing number of sentences as an argument.\n",
    "          '''\n",
    "    \n",
    "    def __init__(self, doc):\n",
    "        self.doc = doc\n",
    "        self.sent_tokens = self.__sentence_tokenizer(self.doc)\n",
    "        self.preprocessed_docs = self.__preprocess_doc(self.sent_tokens)\n",
    "        self.vects = self.__get_vectors(self.preprocessed_docs)\n",
    "        self.sim_mat = self.__get_similarity_matrix(self.sent_tokens, self.vects)\n",
    "        \n",
    "        # creating graph of similarity matrix, where each node will denote the sentence\n",
    "        # and each edge will denote the similarity score of the ith node and jth node.\n",
    "        #\n",
    "        #           i -------------------------------------> j\n",
    "        #   sentence1             similarity score           sentence2\n",
    "        #\n",
    "        \n",
    "        nx_graph = nx.from_numpy_array(self.sim_mat)\n",
    "        self.scores = nx.pagerank(nx_graph)\n",
    "    \n",
    "    def __sentence_tokenizer(self, doc):\n",
    "        \n",
    "        '''\n",
    "            - This method breaks the whole text into sentences or, we can say it \n",
    "              tokenise the text into sentences.\n",
    "              \n",
    "            - r_type: list\n",
    "        '''\n",
    "        \n",
    "        sentences = sent_tokenize(doc)\n",
    "        return sentences\n",
    "\n",
    "    def __preprocess_doc(self, sentences):\n",
    "        \n",
    "        '''\n",
    "            - This method preprocessed the input tokenised sentences. Following are\n",
    "              preprocessing steps:-\n",
    "                1. Removing everything from the sentence except alphabets.\n",
    "                2. Removing stopwords(words that do not carry any information \n",
    "                   like a, the, It, by, is, was, etc) from the sentences.\n",
    "                3. Lower casing each word of the sentence.\n",
    "            \n",
    "            - r_type: list\n",
    "        '''\n",
    "        \n",
    "        STOPWORDS = set(tuple(stopwords.words('english')))\n",
    "        new_sens = []\n",
    "        for sent in sentences:\n",
    "            doc = re.sub('[^a-zA-Z]', ' ', sent)   # allowing only alphabets.\n",
    "            doc = ' '.join([word.lower() for word in doc.split() if word not in STOPWORDS]) # removing stopwords and \n",
    "                                                                                            # performing lower casing.\n",
    "            new_sens.append(doc)\n",
    "        return new_sens\n",
    "\n",
    "    def __get_vectors(self, sentences):\n",
    "        \n",
    "        '''\n",
    "            - This method converts words into numbers, and by doing so\n",
    "              one sentence will become one single vector.\n",
    "            - This method uses glove(Global vector for word representation)\n",
    "              for creating word embeddings.\n",
    "              \n",
    "            - r_type: list\n",
    "        '''\n",
    "        \n",
    "        sentence_vects = []\n",
    "        for sent in sentences:\n",
    "            if len(sent) != 0:\n",
    "                \n",
    "                # Below code line creates normalised vectors of each size 100.\n",
    "                \n",
    "                temp = sum([word_embeddings.get(w, np.zeros((100,))) for w in sent.split()])/(len(sent.split())+0.001)\n",
    "            else:\n",
    "                temp = np.zeros((100,))\n",
    "            sentence_vects.append(temp)\n",
    "        return sentence_vects\n",
    "\n",
    "    def __get_similarity_matrix(self, sentences, sentence_vects):\n",
    "        \n",
    "        '''\n",
    "            - This method creates similarity matrix of sentences.\n",
    "            - sim_mat[i][j] represents similarity score(calculated using cosine similarity) of sentence\n",
    "              i and j.\n",
    "            \n",
    "            - r_type: matrix (numpy ndarray)\n",
    "        '''\n",
    "        sim_mat = np.zeros([len(sentences), len(sentences)])\n",
    "        for i in range(len(sentences)):\n",
    "            for j in range(len(sentences)):\n",
    "                if i != j:\n",
    "                    sim_mat[i][j] = cosine_similarity(sentence_vects[i].reshape(1, 100), sentence_vects[j].reshape(1, 100))[0, 0]\n",
    "        return sim_mat\n",
    "    \n",
    "    def extract_summary(self, number_of_sentences = 10):\n",
    "        \n",
    "        '''\n",
    "            - This method generates summary of given sentences.\n",
    "            \n",
    "            - r_type: string\n",
    "        '''\n",
    "        ranked_sentences = sorted(((self.scores[i%14], s) for i, s in enumerate(self.sent_tokens)), reverse = True)[:number_of_sentences]\n",
    "        summary = ''.join([i[1] for i in ranked_sentences])\n",
    "        return summary\n",
    "        \n",
    "        \n",
    "        \n",
    "# DIRECTIONS: \n",
    "\n",
    "ts = TextSummariser(data.loc[999, 'TEXT'])\n",
    "summary = ts.extract_summary(number_of_sentences = 5)\n",
    "summary"
   ]
  },
  {
   "cell_type": "markdown",
   "execution_count": null,
   "metadata": {},
   "source": [
    "### SUMMARY FOR ALL ENTRIES OF TEST DATA:"
   ]
  },
  {
   "cell_type": "code",
   "execution_count": 9,
   "metadata": {},
   "outputs": [
    {
     "name": "stdout",
     "output_type": "stream",
     "text": [
      "unsuccessfull attempts: 0/1000\n"
     ]
    }
   ],
   "source": [
    "data['SUMMARY'] = ''\n",
    "\n",
    "no = 0\n",
    "for i in range(data.shape[0]):\n",
    "    try:\n",
    "        ts = TextSummariser(data.loc[i, 'TEXT'])\n",
    "        data.loc[i, 'SUMMARY'] = ts.extract_summary(number_of_sentences = 10)\n",
    "    except:\n",
    "        no += 1\n",
    "        pass\n",
    "print(f'unsuccessfull attempts: {no}/1000')"
   ]
  },
  {
   "cell_type": "code",
   "execution_count": 10,
   "metadata": {},
   "outputs": [
    {
     "data": {
      "text/html": [
       "<div>\n",
       "<style scoped>\n",
       "    .dataframe tbody tr th:only-of-type {\n",
       "        vertical-align: middle;\n",
       "    }\n",
       "\n",
       "    .dataframe tbody tr th {\n",
       "        vertical-align: top;\n",
       "    }\n",
       "\n",
       "    .dataframe thead th {\n",
       "        text-align: right;\n",
       "    }\n",
       "</style>\n",
       "<table border=\"1\" class=\"dataframe\">\n",
       "  <thead>\n",
       "    <tr style=\"text-align: right;\">\n",
       "      <th></th>\n",
       "      <th>TEXT</th>\n",
       "      <th>SUMMARY</th>\n",
       "    </tr>\n",
       "  </thead>\n",
       "  <tbody>\n",
       "    <tr>\n",
       "      <th>0</th>\n",
       "      <td>Acnesol Gel is an antibiotic that fights bacte...</td>\n",
       "      <td>Ask your doctor when you should stop treatment...</td>\n",
       "    </tr>\n",
       "    <tr>\n",
       "      <th>1</th>\n",
       "      <td>Ambrodil Syrup is used for treating various re...</td>\n",
       "      <td>Your doctor should also know about all other m...</td>\n",
       "    </tr>\n",
       "    <tr>\n",
       "      <th>2</th>\n",
       "      <td>Augmentin 625 Duo Tablet is a penicillin-type ...</td>\n",
       "      <td>These are usually mild but let your doctor kno...</td>\n",
       "    </tr>\n",
       "    <tr>\n",
       "      <th>3</th>\n",
       "      <td>Azithral 500 Tablet is an antibiotic used to t...</td>\n",
       "      <td>Consult your doctor if you find these side eff...</td>\n",
       "    </tr>\n",
       "    <tr>\n",
       "      <th>4</th>\n",
       "      <td>Alkasol Oral Solution is a medicine used in th...</td>\n",
       "      <td>Take it regularly and do not stop taking the m...</td>\n",
       "    </tr>\n",
       "    <tr>\n",
       "      <th>...</th>\n",
       "      <td>...</td>\n",
       "      <td>...</td>\n",
       "    </tr>\n",
       "    <tr>\n",
       "      <th>995</th>\n",
       "      <td>Azapure Tablet belongs to a group of medicines...</td>\n",
       "      <td>Your doctor also needs to know what other medi...</td>\n",
       "    </tr>\n",
       "    <tr>\n",
       "      <th>996</th>\n",
       "      <td>Arimidex 1mg Tablet  is used alone or with oth...</td>\n",
       "      <td>Your doctor should also know about all other m...</td>\n",
       "    </tr>\n",
       "    <tr>\n",
       "      <th>997</th>\n",
       "      <td>Arpimune ME 100mg Capsule is used to prevent y...</td>\n",
       "      <td>You will have frequent medical tests while tak...</td>\n",
       "    </tr>\n",
       "    <tr>\n",
       "      <th>998</th>\n",
       "      <td>Amlodac CH Tablet is a combination medicine us...</td>\n",
       "      <td>You also need to tell your doctor what other m...</td>\n",
       "    </tr>\n",
       "    <tr>\n",
       "      <th>999</th>\n",
       "      <td>Angizem CD 120 Capsule ER is used to treat ang...</td>\n",
       "      <td>This helps to reduce the workload of the heart...</td>\n",
       "    </tr>\n",
       "  </tbody>\n",
       "</table>\n",
       "<p>1000 rows × 2 columns</p>\n",
       "</div>"
      ],
      "text/plain": [
       "                                                  TEXT  \\\n",
       "0    Acnesol Gel is an antibiotic that fights bacte...   \n",
       "1    Ambrodil Syrup is used for treating various re...   \n",
       "2    Augmentin 625 Duo Tablet is a penicillin-type ...   \n",
       "3    Azithral 500 Tablet is an antibiotic used to t...   \n",
       "4    Alkasol Oral Solution is a medicine used in th...   \n",
       "..                                                 ...   \n",
       "995  Azapure Tablet belongs to a group of medicines...   \n",
       "996  Arimidex 1mg Tablet  is used alone or with oth...   \n",
       "997  Arpimune ME 100mg Capsule is used to prevent y...   \n",
       "998  Amlodac CH Tablet is a combination medicine us...   \n",
       "999  Angizem CD 120 Capsule ER is used to treat ang...   \n",
       "\n",
       "                                               SUMMARY  \n",
       "0    Ask your doctor when you should stop treatment...  \n",
       "1    Your doctor should also know about all other m...  \n",
       "2    These are usually mild but let your doctor kno...  \n",
       "3    Consult your doctor if you find these side eff...  \n",
       "4    Take it regularly and do not stop taking the m...  \n",
       "..                                                 ...  \n",
       "995  Your doctor also needs to know what other medi...  \n",
       "996  Your doctor should also know about all other m...  \n",
       "997  You will have frequent medical tests while tak...  \n",
       "998  You also need to tell your doctor what other m...  \n",
       "999  This helps to reduce the workload of the heart...  \n",
       "\n",
       "[1000 rows x 2 columns]"
      ]
     },
     "execution_count": 10,
     "metadata": {},
     "output_type": "execute_result"
    }
   ],
   "source": [
    "data"
   ]
  },
  {
   "cell_type": "code",
   "execution_count": 11,
   "metadata": {},
   "outputs": [],
   "source": [
    "data.to_excel('test_data_with_summary.xlsx', index = False)"
   ]
  }
 ],
 "metadata": {
  "kernelspec": {
   "display_name": "Python 3",
   "language": "python",
   "name": "python3"
  },
  "language_info": {
   "codemirror_mode": {
    "name": "ipython",
    "version": 3
   },
   "file_extension": ".py",
   "mimetype": "text/x-python",
   "name": "python",
   "nbconvert_exporter": "python",
   "pygments_lexer": "ipython3",
   "version": "3.7.6"
  }
 },
 "nbformat": 4,
 "nbformat_minor": 4
}
